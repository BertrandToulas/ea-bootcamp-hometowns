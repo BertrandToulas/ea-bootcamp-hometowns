{
 "metadata": {
  "language_info": {
   "codemirror_mode": {
    "name": "ipython",
    "version": 3
   },
   "file_extension": ".py",
   "mimetype": "text/x-python",
   "name": "python",
   "nbconvert_exporter": "python",
   "pygments_lexer": "ipython3",
   "version": "3.9.5"
  },
  "orig_nbformat": 4,
  "kernelspec": {
   "name": "python3",
   "display_name": "Python 3.9.5 64-bit ('earth-analytics-python': virtualenvwrapper)"
  },
  "interpreter": {
   "hash": "770d3eaa243158040db6f709e7208574876c62d41add17b8df172fd98bb524f5"
  }
 },
 "nbformat": 4,
 "nbformat_minor": 2,
 "cells": [
  {
   "source": [
    "# Metz"
   ],
   "cell_type": "markdown",
   "metadata": {}
  },
  {
   "source": [
    "## Location:"
   ],
   "cell_type": "markdown",
   "metadata": {}
  },
  {
   "source": [
    "49° 07′ 13″ N, 6° 10′ 40″ E"
   ],
   "cell_type": "markdown",
   "metadata": {}
  },
  {
   "source": [
    "## Population: 116,581"
   ],
   "cell_type": "markdown",
   "metadata": {}
  },
  {
   "source": [
    "Source: https://en.wikipedia.org/wiki/Metz"
   ],
   "cell_type": "markdown",
   "metadata": {}
  },
  {
   "source": [
    "## Landmark: Cathedral of Saint Stephen / Cathédrale Saint-Etienne de Metz"
   ],
   "cell_type": "markdown",
   "metadata": {}
  },
  {
   "source": [
    "<img src=\"cathedral.jpg\" width=640 height=480 />\n",
    "\n",
    "\n"
   ],
   "cell_type": "markdown",
   "metadata": {}
  },
  {
   "source": [
    "Metz Cathedral, otherwise the Cathedral of Saint Stephen, Metz (French: Cathédrale Saint Étienne de Metz), is a Roman Catholic cathedral in Metz, capital of Lorraine, France. It is dedicated to Saint Stephen. First begun in the early 14th century, it was joined together with the collegiate church of Notre-Dame in the mid-14th century, and given a new transept and late Gothic chevet, finished between 1486 and 1520. It is the cathedral of the Roman Catholic Diocese of Metz as the seat of the bishops of Metz. The cathedral treasury displays the collection, assembled over 1,000 years, of the bishopric of Metz, including paraments and items used for the Eucharist."
   ],
   "cell_type": "markdown",
   "metadata": {}
  }
 ]
}